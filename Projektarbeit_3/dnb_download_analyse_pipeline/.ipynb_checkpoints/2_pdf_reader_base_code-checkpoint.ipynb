{
 "cells": [
  {
   "cell_type": "markdown",
   "id": "d96d73e8",
   "metadata": {},
   "source": [
    "# OCR Function Pytesseract"
   ]
  },
  {
   "cell_type": "code",
   "execution_count": 1,
   "id": "2e9ebc6b",
   "metadata": {
    "scrolled": true
   },
   "outputs": [
    {
     "name": "stdout",
     "output_type": "stream",
     "text": [
      "Image saved to output_image.jpg\n",
      "Extracted Text:\n",
      "\" oy pee ine shy * WMO ae eS oe CET ss 2 = ——\n",
      "oe i (ea i \"em ot TEM ith = thay pa ene Sar eee ic re aa ates)'t ants ae es et Sm SP ee\n",
      "\n",
      "Ej\n",
      "\n",
      "a rac en ne ,\n",
      "a BRS a == 9FY\n",
      "a | SUE\n",
      "\n",
      "PR. 15 Ngr.\n",
      "\n",
      "NEW-YORK\n",
      "(820 Broadway.)\n",
      "\n",
      "LPHIA\n",
      "\n",
      "(610 Archstreet.)\n",
      "\n",
      "7\n",
      "4\n",
      "\n",
      "PHILADE\n",
      "\n",
      "liber das Lied:\n",
      "HOME, SWEET HOME” ~~\n",
      "Kigenthum der Verleger.\n",
      "J. SCHUBERTH & C°\n",
      "\n",
      "\\\n",
      "\\\n",
      "\n",
      "—\n",
      "\n",
      "—_— 6\n",
      "\n",
      "LEIPZIG\n",
      "(¥elixstrasse 2.)\n",
      "\n",
      "226,\n",
      "\n",
      "OP.\n",
      "\n",
      "yy\n",
      "we Z\n",
      "Wijige be\n",
      "hie\n",
      "Zi &\n",
      "\n",
      "\n"
     ]
    }
   ],
   "source": [
    "import fitz  # PyMuPDF\n",
    "from PIL import Image\n",
    "import pytesseract\n",
    "import io\n",
    "\n",
    "pytesseract.pytesseract.tesseract_cmd = r'C:\\Program Files\\Tesseract-OCR\\tesseract.exe'\n",
    "\n",
    "def extract_first_image_and_text(pdf_path, output_image_path):\n",
    "  \n",
    "    pdf_document = fitz.open(pdf_path)\n",
    "    \n",
    "    first_page = pdf_document[0]\n",
    "    \n",
    "    images = first_page.get_images(full=True)\n",
    "    if not images:\n",
    "        print(\"No images found on the first page.\")\n",
    "        return None, None\n",
    "    \n",
    "    first_image_ref = images[0][0]\n",
    "    base_image = pdf_document.extract_image(first_image_ref)\n",
    "    \n",
    "    image_bytes = base_image[\"image\"]\n",
    "    image = Image.open(io.BytesIO(image_bytes))\n",
    "    \n",
    "    image.save(output_image_path)\n",
    "    print(f\"Image saved to {output_image_path}\")\n",
    "\n",
    "    text = pytesseract.image_to_string(image)\n",
    "    return text #,image\n",
    "\n",
    "pdf_path = \"pdf/2254.pdf\"\n",
    "\n",
    "output_image_path = \"output_image.jpg\"\n",
    "\n",
    "extracted_text = extract_first_image_and_text(pdf_path, output_image_path)\n",
    "\n",
    "\n",
    "print(\"Extracted Text:\")\n",
    "print(extracted_text)"
   ]
  },
  {
   "cell_type": "markdown",
   "id": "e5bcd6c6",
   "metadata": {},
   "source": [
    "# MAIN CODE Decide between OCR or just Extracting Text from PDF (if doable)"
   ]
  },
  {
   "cell_type": "code",
   "execution_count": 33,
   "id": "837d5d2f",
   "metadata": {
    "scrolled": true
   },
   "outputs": [
    {
     "name": "stdout",
     "output_type": "stream",
     "text": [
      "Falling back to OCR...\n",
      "Image saved to output_image.jpg\n",
      "Extracted Text:\n",
      "\" oy pee ine shy * WMO ae eS oe CET ss 2 = ——\n",
      "oe i (ea i \"em ot TEM ith = thay pa ene Sar eee ic re aa ates)'t ants ae es et Sm SP ee\n",
      "\n",
      "Ej\n",
      "\n",
      "a rac en ne ,\n",
      "a BRS a == 9FY\n",
      "a | SUE\n",
      "\n",
      "PR. 15 Ngr.\n",
      "\n",
      "NEW-YORK\n",
      "(820 Broadway.)\n",
      "\n",
      "LPHIA\n",
      "\n",
      "(610 Archstreet.)\n",
      "\n",
      "7\n",
      "4\n",
      "\n",
      "PHILADE\n",
      "\n",
      "liber das Lied:\n",
      "HOME, SWEET HOME” ~~\n",
      "Kigenthum der Verleger.\n",
      "J. SCHUBERTH & C°\n",
      "\n",
      "\\\n",
      "\\\n",
      "\n",
      "—\n",
      "\n",
      "—_— 6\n",
      "\n",
      "LEIPZIG\n",
      "(¥elixstrasse 2.)\n",
      "\n",
      "226,\n",
      "\n",
      "OP.\n",
      "\n",
      "yy\n",
      "we Z\n",
      "Wijige be\n",
      "hie\n",
      "Zi &\n",
      "\n",
      "\n"
     ]
    }
   ],
   "source": [
    "import fitz \n",
    "from pdf2image import convert_from_path\n",
    "import pytesseract\n",
    "\n",
    "def extract_text_from_pdf(pdf_path):\n",
    "    try:\n",
    "        pdf_document = fitz.open(pdf_path)\n",
    "        if pdf_document.page_count > 0:\n",
    "            first_page = pdf_document[0]\n",
    "            text = first_page.get_text()\n",
    "            if text.strip():\n",
    "                return text\n",
    "    except Exception as e:\n",
    "        print(f\"Direct extraction failed: {e}\")\n",
    "\n",
    "    try:\n",
    "        print(\"Falling back to OCR...\")\n",
    "\n",
    "        extracted_text = extract_first_image_and_text(pdf_path, output_image_path)\n",
    "        return extracted_text\n",
    "    except Exception as e:\n",
    "        print(f\"OCR failed: {e}\")\n",
    "        return None\n",
    "\n",
    "pdf_path = \"pdf/2254.pdf\"\n",
    "#pdf_path = \"pdf/1179.pdf\"\n",
    "output_image_path = \"output_image.jpg\"\n",
    "extracted_text = extract_text_from_pdf(pdf_path)\n",
    "\n",
    "if extracted_text:\n",
    "    print(\"Extracted Text:\")\n",
    "    print(extracted_text)\n",
    "else:\n",
    "    print(\"Failed to extract text.\")"
   ]
  },
  {
   "cell_type": "markdown",
   "id": "47cbb8ff",
   "metadata": {},
   "source": [
    "# BETTER OCR Method - but ressource intensiv"
   ]
  },
  {
   "cell_type": "code",
   "execution_count": 3,
   "id": "449fcc45",
   "metadata": {},
   "outputs": [
    {
     "name": "stderr",
     "output_type": "stream",
     "text": [
      "Neither CUDA nor MPS are available - defaulting to CPU. Note: This module is much faster with a GPU.\n"
     ]
    },
    {
     "name": "stdout",
     "output_type": "stream",
     "text": [
      "FANTA8! B\n",
      "iiber\n",
      "das Lied:\n",
      "((\n",
      "HOME, SWEET HOME\n",
      "Fit\n",
      "componirt\n",
      "von\n",
      "DIW VOLCKMAR\n",
      "OP 226 _\n",
      "PR .\n",
      "15 Ngr:\n",
      "Eigenthum der Verleger:\n",
      "LETPZIG\n",
      "NEW-YORK\n",
      "Felixstrasse 2.)\n",
      "J.SCHUBERTH & c9\n",
      "(820 Broadway:)\n",
      "PHILADELPHIA\n",
      "(610 Archstreet. )\n",
      "9 k 61)\n",
      "vuel\n"
     ]
    }
   ],
   "source": [
    "import easyocr\n",
    "path = \"output_image.jpg\"\n",
    "def extract_text_easyocr(path):\n",
    "    reader = easyocr.Reader(['en'])  # languages - 'en' English ... deutsch funk trz mit en\n",
    "    result = reader.readtext(path, detail=0)\n",
    "    return \"\\n\".join(result)\n",
    "print(extract_text_easyocr(path))"
   ]
  }
 ],
 "metadata": {
  "kernelspec": {
   "display_name": "Python 3 (ipykernel)",
   "language": "python",
   "name": "python3"
  },
  "language_info": {
   "codemirror_mode": {
    "name": "ipython",
    "version": 3
   },
   "file_extension": ".py",
   "mimetype": "text/x-python",
   "name": "python",
   "nbconvert_exporter": "python",
   "pygments_lexer": "ipython3",
   "version": "3.10.9"
  }
 },
 "nbformat": 4,
 "nbformat_minor": 5
}
