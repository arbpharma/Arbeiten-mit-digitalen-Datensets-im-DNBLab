{
 "cells": [
  {
   "cell_type": "markdown",
   "id": "e0f800bd",
   "metadata": {},
   "source": [
    "# Konvertierung von PDF-Dateien zu DOCX-Dateien"
   ]
  },
  {
   "cell_type": "markdown",
   "id": "b85e3aad",
   "metadata": {},
   "source": [
    "Idee dahinter ist, dass, falls das Auslesen der Musiknoten aus PDF-Dateien zu viele Schwierigkeiten bescherrt oder nicht ausreichend validiert werden kann, es eine Alternative gibt.\n",
    "Dazu müssen die PDF-Dateien zunächst in DOCX-Dateien umgewandelt werden\n",
    "Im Kern ist die Absicht, die Noten aus dem Notensystem als Buchstaben ausgeben zu lassen."
   ]
  },
  {
   "cell_type": "code",
   "execution_count": 1,
   "id": "9815c11b",
   "metadata": {},
   "outputs": [
    {
     "name": "stdout",
     "output_type": "stream",
     "text": [
      "Collecting PyPDF2\n",
      "  Downloading pypdf2-3.0.1-py3-none-any.whl (232 kB)\n",
      "                                              0.0/232.6 kB ? eta -:--:--\n",
      "     -------------------------------------- 232.6/232.6 kB 7.2 MB/s eta 0:00:00\n",
      "Collecting python-docx\n",
      "  Downloading python_docx-1.1.2-py3-none-any.whl (244 kB)\n",
      "                                              0.0/244.3 kB ? eta -:--:--\n",
      "     ------------------------------------- 244.3/244.3 kB 15.6 MB/s eta 0:00:00\n",
      "Collecting pdfplumber\n",
      "  Downloading pdfplumber-0.11.4-py3-none-any.whl (59 kB)\n",
      "                                              0.0/59.2 kB ? eta -:--:--\n",
      "     ---------------------------------------- 59.2/59.2 kB ? eta 0:00:00\n",
      "Collecting pytesseract\n",
      "  Downloading pytesseract-0.3.13-py3-none-any.whl (14 kB)\n",
      "Requirement already satisfied: lxml>=3.1.0 in c:\\users\\sebas\\anaconda3\\lib\\site-packages (from python-docx) (4.9.2)\n",
      "Collecting typing-extensions>=4.9.0 (from python-docx)\n",
      "  Downloading typing_extensions-4.12.2-py3-none-any.whl (37 kB)\n",
      "Collecting pdfminer.six==20231228 (from pdfplumber)\n",
      "  Downloading pdfminer.six-20231228-py3-none-any.whl (5.6 MB)\n",
      "                                              0.0/5.6 MB ? eta -:--:--\n",
      "     --------                                 1.2/5.6 MB 25.1 MB/s eta 0:00:01\n",
      "     -------------------                      2.7/5.6 MB 28.8 MB/s eta 0:00:01\n",
      "     -----------------------------            4.2/5.6 MB 29.6 MB/s eta 0:00:01\n",
      "     ---------------------------------------  5.6/5.6 MB 32.6 MB/s eta 0:00:01\n",
      "     ---------------------------------------- 5.6/5.6 MB 29.8 MB/s eta 0:00:00\n",
      "Requirement already satisfied: Pillow>=9.1 in c:\\users\\sebas\\anaconda3\\lib\\site-packages (from pdfplumber) (9.4.0)\n",
      "Collecting pypdfium2>=4.18.0 (from pdfplumber)\n",
      "  Downloading pypdfium2-4.30.0-py3-none-win_amd64.whl (2.9 MB)\n",
      "                                              0.0/2.9 MB ? eta -:--:--\n",
      "     -------------------                      1.4/2.9 MB 42.9 MB/s eta 0:00:01\n",
      "     ---------------------------------------  2.9/2.9 MB 36.5 MB/s eta 0:00:01\n",
      "     ---------------------------------------- 2.9/2.9 MB 30.7 MB/s eta 0:00:00\n",
      "Requirement already satisfied: charset-normalizer>=2.0.0 in c:\\users\\sebas\\anaconda3\\lib\\site-packages (from pdfminer.six==20231228->pdfplumber) (2.0.4)\n",
      "Requirement already satisfied: cryptography>=36.0.0 in c:\\users\\sebas\\anaconda3\\lib\\site-packages (from pdfminer.six==20231228->pdfplumber) (39.0.1)\n",
      "Requirement already satisfied: packaging>=21.3 in c:\\users\\sebas\\anaconda3\\lib\\site-packages (from pytesseract) (23.0)\n",
      "Requirement already satisfied: cffi>=1.12 in c:\\users\\sebas\\anaconda3\\lib\\site-packages (from cryptography>=36.0.0->pdfminer.six==20231228->pdfplumber) (1.15.1)\n",
      "Requirement already satisfied: pycparser in c:\\users\\sebas\\anaconda3\\lib\\site-packages (from cffi>=1.12->cryptography>=36.0.0->pdfminer.six==20231228->pdfplumber) (2.21)\n",
      "Installing collected packages: typing-extensions, pytesseract, pypdfium2, PyPDF2, python-docx, pdfminer.six, pdfplumber\n",
      "  Attempting uninstall: typing-extensions\n",
      "    Found existing installation: typing_extensions 4.6.3\n",
      "    Uninstalling typing_extensions-4.6.3:\n",
      "      Successfully uninstalled typing_extensions-4.6.3\n",
      "Successfully installed PyPDF2-3.0.1 pdfminer.six-20231228 pdfplumber-0.11.4 pypdfium2-4.30.0 pytesseract-0.3.13 python-docx-1.1.2 typing-extensions-4.12.2\n",
      "Note: you may need to restart the kernel to use updated packages.\n"
     ]
    }
   ],
   "source": [
    "pip install PyPDF2 python-docx pdfplumber pytesseract\n",
    "\n",
    "# Installation der Python-Pakete, um Inhalte aus den PDF-Dateien zu extrahieren und in ein Word-Dokument zu schreiben"
   ]
  },
  {
   "cell_type": "code",
   "execution_count": 2,
   "id": "a1aea8b4",
   "metadata": {},
   "outputs": [
    {
     "name": "stdout",
     "output_type": "stream",
     "text": [
      "Requirement already satisfied: pillow in c:\\users\\sebas\\anaconda3\\lib\\site-packages (9.4.0)\n",
      "Note: you may need to restart the kernel to use updated packages.\n"
     ]
    }
   ],
   "source": [
    "pip install pillow"
   ]
  },
  {
   "cell_type": "code",
   "execution_count": 3,
   "id": "5f7c852a",
   "metadata": {},
   "outputs": [
    {
     "name": "stdout",
     "output_type": "stream",
     "text": [
      "Konvertierung abgeschlossen: C:\\Users\\sebas\\Documents\\Studium\\missa-phrygia.docx\n"
     ]
    }
   ],
   "source": [
    "import os\n",
    "from PyPDF2 import PdfReader\n",
    "from docx import Document\n",
    "\n",
    "def pdf_to_docx_same_folder(pdf_path):\n",
    "    # Word-Dateiname basierend auf dem PDF-Pfad erstellen\n",
    "    base_name = os.path.splitext(pdf_path)[0]\n",
    "    docx_path = f\"{base_name}.docx\"\n",
    "    \n",
    "    # PDF-Datei lesen\n",
    "    reader = PdfReader(pdf_path)\n",
    "    doc = Document()\n",
    "\n",
    "    # Seiten durchlaufen und Text hinzufügen\n",
    "    for page in reader.pages:\n",
    "        text = page.extract_text()\n",
    "        if text:  # Leere Seiten überspringen\n",
    "            doc.add_paragraph(text)\n",
    "    \n",
    "    # Word-Datei speichern\n",
    "    doc.save(docx_path)\n",
    "    print(f\"Konvertierung abgeschlossen: {docx_path}\")\n",
    "\n",
    "# Pfad zur PDF-Datei\n",
    "pdf_path = r\"C:\\Users\\sebas\\Documents\\Studium\\missa-phrygia.pdf\"\n",
    "\n",
    "# Funktion aufrufen\n",
    "pdf_to_docx_same_folder(pdf_path)"
   ]
  },
  {
   "cell_type": "markdown",
   "id": "27ec3306",
   "metadata": {},
   "source": [
    "# Zwischenfazit\n",
    "\n",
    "Das Umwandeln ist nicht besonders aufwendig, allerdings werden die wesentlichen Sachen nicht umgesetzt. Die Noten werden nicht übersetzt, sondern fallen bei der Konvertierung in ein Word-Dokument vollkommen raus.\n",
    "Somit ist die Konvertierung und die anschließende Auslese aus einer DOCX-Datei aktuell keine Alternative.\n",
    "Im nächsten Schritt könnte man noch versuchen ob es einen Weg gibt, das Notensystem als Bildquelle in eine DOCX-Datei umzuwandeln und die Noten anschließend in Text zu übersetzen. "
   ]
  }
 ],
 "metadata": {
  "kernelspec": {
   "display_name": "Python 3 (ipykernel)",
   "language": "python",
   "name": "python3"
  },
  "language_info": {
   "codemirror_mode": {
    "name": "ipython",
    "version": 3
   },
   "file_extension": ".py",
   "mimetype": "text/x-python",
   "name": "python",
   "nbconvert_exporter": "python",
   "pygments_lexer": "ipython3",
   "version": "3.11.3"
  }
 },
 "nbformat": 4,
 "nbformat_minor": 5
}
